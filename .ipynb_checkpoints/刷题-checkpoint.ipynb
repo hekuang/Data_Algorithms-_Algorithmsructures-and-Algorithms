{
 "cells": [
  {
   "cell_type": "markdown",
   "metadata": {},
   "source": [
    "#### 面试题3：二维数组查找"
   ]
  },
  {
   "cell_type": "code",
   "execution_count": 2,
   "metadata": {},
   "outputs": [
    {
     "name": "stdout",
     "output_type": "stream",
     "text": [
      "False\n",
      "True\n"
     ]
    }
   ],
   "source": [
    "def search(array, num):\n",
    "    # 参数合法性判断忽略\n",
    "    i = 0\n",
    "    j = len(array[0]) - 1\n",
    "    max_i = len(array) - 1\n",
    "    while i <= max_i and j >= 0:\n",
    "        if array[i][j] == num:\n",
    "            return True\n",
    "        elif array[i][j] > num:\n",
    "            j = j - 1\n",
    "        else:\n",
    "            i = i + 1\n",
    "    return False        \n",
    "    \n",
    "    \n",
    "if __name__ == '__main__':\n",
    "    a = [[1, 2, 8, 9],\n",
    "         [2, 4, 9, 12],\n",
    "         [4, 7, 10, 13],\n",
    "         [6, 8, 11, 15],\n",
    "         ]\n",
    "    print (search(a, 14))\n",
    "    print (search(a, 7))\n",
    "    "
   ]
  },
  {
   "cell_type": "markdown",
   "metadata": {},
   "source": [
    "### 4.替换空格"
   ]
  },
  {
   "cell_type": "code",
   "execution_count": 18,
   "metadata": {},
   "outputs": [
    {
     "name": "stdout",
     "output_type": "stream",
     "text": [
      "we%20are%20happy\n",
      "we%20are%20happy\n"
     ]
    }
   ],
   "source": [
    "# -*- coding:utf-8 -*-\n",
    "class Solution:\n",
    "    # s 源字符串\n",
    "    def replaceSpace(self, s):\n",
    "        # write code here\n",
    "        if type(s) != str:\n",
    "            return\n",
    "        return s.replace(' ', '%20')\n",
    "    \n",
    "      # 创建新的字符串进行替换\n",
    "    def replaceSpace1(self, s):\n",
    "        tempstr = ''\n",
    "        if type(s) != str:\n",
    "            return\n",
    "        for c in s:\n",
    "            if c == ' ':\n",
    "                tempstr += '%20'\n",
    "            else:\n",
    "                tempstr += c\n",
    "        return tempstr\n",
    "    \n",
    " \n",
    "s = 'we are happy'\n",
    "test = Solution()\n",
    "print(test.replaceSpace(s))\n",
    "print(test.replaceSpace1(s))\n",
    "\n",
    " \n"
   ]
  },
  {
   "cell_type": "code",
   "execution_count": 7,
   "metadata": {},
   "outputs": [
    {
     "ename": "TypeError",
     "evalue": "type() takes 1 or 3 arguments",
     "output_type": "error",
     "traceback": [
      "\u001b[1;31m---------------------------------------------------------------------------\u001b[0m",
      "\u001b[1;31mTypeError\u001b[0m                                 Traceback (most recent call last)",
      "\u001b[1;32m<ipython-input-7-a05d6eaaa181>\u001b[0m in \u001b[0;36m<module>\u001b[1;34m()\u001b[0m\n\u001b[1;32m----> 1\u001b[1;33m \u001b[0mtype\u001b[0m\u001b[1;33m(\u001b[0m \u001b[1;33m)\u001b[0m\u001b[1;33m\u001b[0m\u001b[0m\n\u001b[0m",
      "\u001b[1;31mTypeError\u001b[0m: type() takes 1 or 3 arguments"
     ]
    }
   ],
   "source": [
    "type( )"
   ]
  },
  {
   "cell_type": "code",
   "execution_count": null,
   "metadata": {},
   "outputs": [],
   "source": [
    "class Node:\n",
    "     def __init__(self, data, left, right):\n",
    "        self.data = data\n",
    "        self.left = left\n",
    "        self.right = right\n",
    "def construct_tree(pre_order, mid_order):\n",
    "  # \n",
    "      if len(pre_order) == 0 or len(mid_oder) ==0 :\n",
    "        return None\n",
    "  # 前序遍历的第一个结点一定是根结点\n",
    "      root_data = pre_order[0]\n",
    "      for i in range(0, len(mid_order)):\n",
    "    if mid_order[i] == root_data:\n",
    "      break\n",
    "  # 递归构造左子树和右子树\n",
    "  left = construct_tree(pre_order[1 : 1 + i], mid_order[:i])\n",
    "  right = construct_tree(pre_order[1 + i:], mid_order[i+1:])\n",
    "  return Node(root_data, left, right)\n",
    "if __name__ == '__main__':\n",
    "    pre_order = [1, 2, 4, 7, 3, 5, 6, 8]\n",
    "    mid_order = [4, 7, 2, 1, 5, 3, 8, 6]\n",
    "    root = construct_tree(pre_order, mid_order)"
   ]
  }
 ],
 "metadata": {
  "kernelspec": {
   "display_name": "Python 3",
   "language": "python",
   "name": "python3"
  },
  "language_info": {
   "codemirror_mode": {
    "name": "ipython",
    "version": 3
   },
   "file_extension": ".py",
   "mimetype": "text/x-python",
   "name": "python",
   "nbconvert_exporter": "python",
   "pygments_lexer": "ipython3",
   "version": "3.6.4"
  }
 },
 "nbformat": 4,
 "nbformat_minor": 2
}
