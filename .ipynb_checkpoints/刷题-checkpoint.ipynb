{
 "cells": [
  {
   "cell_type": "markdown",
   "metadata": {},
   "source": [
    "<a id = \"0\"></a>\n",
    "\n",
    "- [3.二维数组查找](#3)\n",
    "- [4.替换空格](#4)\n",
    "- [5.从尾到头打印链表](#5)\n",
    "- [6.重构二叉树](#6)\n",
    "- [23.从上往下打印二叉树](#23)\n"
   ]
  },
  {
   "cell_type": "markdown",
   "metadata": {},
   "source": [
    "<a id = \"3\"></a>\n",
    "### [3.二维数组查找](#0)"
   ]
  },
  {
   "cell_type": "code",
   "execution_count": 1,
   "metadata": {},
   "outputs": [
    {
     "name": "stdout",
     "output_type": "stream",
     "text": [
      "3\n",
      "False\n",
      "3\n",
      "True\n"
     ]
    }
   ],
   "source": [
    " \n",
    "def search(array, num):\n",
    "    # 参数合法性判断忽略\n",
    "    i = 0\n",
    "    j = len(array[0]) - 1\n",
    "    max_i = len(array) - 1\n",
    "    while i <= max_i and j >= 0:\n",
    "        if array[i][j] == num:\n",
    "            return True\n",
    "        elif array[i][j] > num:\n",
    "            j = j - 1\n",
    "        else:\n",
    "            i = i + 1\n",
    "    return False        \n",
    "    \n",
    "    \n",
    "if __name__ == '__main__':\n",
    "    a = [[1, 2, 8, 9],\n",
    "         [2, 4, 9, 12],\n",
    "         [4, 7, 10, 13],\n",
    "         [6, 8, 11, 15],\n",
    "         ]\n",
    "    print (search(a, 14))\n",
    "    print (search(a, 7))\n",
    "    "
   ]
  },
  {
   "cell_type": "code",
   "execution_count": 18,
   "metadata": {},
   "outputs": [
    {
     "name": "stdout",
     "output_type": "stream",
     "text": [
      "False\n",
      "True\n"
     ]
    }
   ],
   "source": [
    " \n",
    "def search(array, num):\n",
    "    # 参数合法性判断忽略\n",
    "    i = len(array)-1\n",
    "    j = 0\n",
    "    max_j = len(array[0])-1\n",
    "    while i >=0 and j < max_j:\n",
    "        if array[i][j] == num:\n",
    "            return True\n",
    "        elif array[i][j] > num:\n",
    "            i -= 1\n",
    "        else:\n",
    "            j += 1\n",
    "    return False        \n",
    "    \n",
    "    \n",
    "if __name__ == '__main__':\n",
    "    a = [[1, 2, 8, 9],\n",
    "         [2, 4, 9, 12],\n",
    "         [4, 7, 10, 13],\n",
    "         [6, 8, 11, 15],\n",
    "         ]\n",
    "    print (search(a, 14))\n",
    "    print (search(a, 7))\n",
    "    "
   ]
  },
  {
   "cell_type": "markdown",
   "metadata": {},
   "source": [
    "<a id = \"4\"> </a>\n",
    "### [4.替换空格](#0)"
   ]
  },
  {
   "cell_type": "code",
   "execution_count": 22,
   "metadata": {},
   "outputs": [
    {
     "name": "stdout",
     "output_type": "stream",
     "text": [
      "we%20are%20happy\n",
      "we%20are%20happy\n"
     ]
    }
   ],
   "source": [
    "# -*- coding:utf-8 -*-\n",
    "class Solution:\n",
    "    # s 源字符串\n",
    "    def replaceSpace(self, s):\n",
    "        # write code here\n",
    "        if type(s) != str:\n",
    "            return\n",
    "        return s.replace(' ', '%20')\n",
    "    \n",
    "      # 创建新的字符串进行替换\n",
    "    def replaceSpace1(self, s):\n",
    "        tempstr = ''\n",
    "        if type(s) != str:\n",
    "            return\n",
    "        for c in s:\n",
    "            if c == ' ':\n",
    "                tempstr += '%20'\n",
    "            else:\n",
    "                tempstr += c\n",
    "        return tempstr\n",
    "    \n",
    " \n",
    "s = 'we are happy'\n",
    "test = Solution()\n",
    "print(test.replaceSpace(s))\n",
    "print(test.replaceSpace1(s))\n",
    "\n",
    " \n"
   ]
  },
  {
   "cell_type": "markdown",
   "metadata": {},
   "source": [
    "<a id = \"6\"></a>\n",
    "### [6.重建二叉树](#0)"
   ]
  },
  {
   "cell_type": "code",
   "execution_count": 16,
   "metadata": {},
   "outputs": [],
   "source": [
    "class Node:\n",
    "     def __init__(self, data, left, right):\n",
    "        self.data = data\n",
    "        self.left = left\n",
    "        self.right = right\n",
    "        \n",
    "def construct_tree(pre_order, mid_order):\n",
    "# \n",
    "    if len(pre_order) == 0 or len(mid_order) ==0 :\n",
    "        return None\n",
    "# 前序遍历的第一个结点一定是根结点\n",
    "    root_data = pre_order[0]\n",
    "    for i in range(0, len(mid_order)):\n",
    "        if mid_order[i] == root_data:\n",
    "            break\n",
    "# 递归构造左子树和右子树\n",
    "    left = construct_tree(pre_order[1 : 1 + i], mid_order[:i])\n",
    "    right = construct_tree(pre_order[1 + i:], mid_order[i+1:])\n",
    "    return Node(root_data, left, right)\n",
    "\n",
    "\n",
    "if __name__ == '__main__':\n",
    "    pre_order = [1, 2, 4, 7, 3, 5, 6, 8]\n",
    "    mid_order = [4, 7, 2, 1, 5, 3, 8, 6]\n",
    "    root = construct_tree(pre_order, mid_order)\n",
    "    root"
   ]
  },
  {
   "cell_type": "code",
   "execution_count": 26,
   "metadata": {
    "scrolled": true
   },
   "outputs": [
    {
     "name": "stdout",
     "output_type": "stream",
     "text": [
      "7 4 2 5 8 6 3 1 "
     ]
    }
   ],
   "source": [
    "# 成功解法\n",
    "class TreeNode:\n",
    "    def __init__(self, x):\n",
    "        self.val = x\n",
    "        self.left = None\n",
    "        self.right = None\n",
    "        \n",
    "class Solution:\n",
    "    # 返回构造的TreeNode根节点\n",
    "    def reConstructBinaryTree(self, pre, tin):\n",
    "        # write code here\n",
    "        if len(pre) == 0 or len(tin) ==0 :\n",
    "            return None\n",
    "    # 前序遍历的第一个结点一定是根结点\n",
    "        else:\n",
    "            root = TreeNode(pre[0])\n",
    "#             print(root)\n",
    "            i = tin.index(pre[0])\n",
    "                 #for i in range(0, len(tin):\n",
    "                    #if tin[i] == root_data:\n",
    "                       # break\n",
    "        # 递归构造左子树和右子树\n",
    "            root.left = self.reConstructBinaryTree(pre[1 : 1 + i], tin[:i])\n",
    "            root.right = self.reConstructBinaryTree(pre[1 + i:], tin[i+1:])\n",
    "        return root\n",
    "    \n",
    "    def preorder(self, node):\n",
    "        if node is None:\n",
    "            return\n",
    "       \n",
    "        self.preorder(node.left)\n",
    "        self.preorder(node.right)\n",
    "        print(node.val, end=\" \")\n",
    "\n",
    "    \n",
    "\n",
    "if __name__ == '__main__':\n",
    "    pre_order = [1, 2, 4, 7, 3, 5, 6, 8]\n",
    "    mid_order = [4, 7, 2, 1, 5, 3, 8, 6]  \n",
    "    tin_order = [7, 4 ,2, 5, 8, 6 ,3, 1]\n",
    "S = Solution()\n",
    "root=S.reConstructBinaryTree(pre_order,mid_order)\n",
    "S.preorder(root)"
   ]
  },
  {
   "cell_type": "code",
   "execution_count": 25,
   "metadata": {},
   "outputs": [
    {
     "name": "stdout",
     "output_type": "stream",
     "text": [
      "7 4 2 5 8 6 3 1 "
     ]
    }
   ],
   "source": [
    "# 成功解法\n",
    "class TreeNode:\n",
    "    def __init__(self, x):\n",
    "        self.val = x\n",
    "        self.left = None\n",
    "        self.right = None\n",
    "        \n",
    "class Solution:\n",
    "    # 返回构造的TreeNode根节点\n",
    "    def reConstructBinaryTree(self, tin,pos):\n",
    "        # write code here\n",
    "        if len(tin) == 0 or len(pos) ==0 :\n",
    "            return None\n",
    "    # 前序遍历的第一个结点一定是根结点\n",
    "        else:\n",
    "            j = len(pos)-1\n",
    "            root = TreeNode(pos[j])\n",
    "            i = tin.index(pos[j])\n",
    "                 #for i in range(0, len(tin):\n",
    "                    #if tin[i] == root_data:\n",
    "                       # break\n",
    "        # 递归构造左子树和右子树\n",
    "            root.left = self.reConstructBinaryTree(tin[:i],pos[0 : i] )\n",
    "            root.right = self.reConstructBinaryTree( tin[i+1:],pos[i:j])\n",
    "        return root\n",
    "    \n",
    "    def preorder(self, node):\n",
    "        if node is None:\n",
    "            return\n",
    "       \n",
    "        self.preorder(node.left)\n",
    "        self.preorder(node.right)\n",
    "        print(node.val, end=\" \")\n",
    "\n",
    "    \n",
    "\n",
    "if __name__ == '__main__':\n",
    "    pre_order = [1, 2, 4, 7, 3, 5, 6, 8]\n",
    "    tin_order = [4, 7, 2, 1, 5, 3, 8, 6]  \n",
    "    pos_order = [7, 4 ,2, 5, 8, 6 ,3, 1]\n",
    "S = Solution()\n",
    "root=S.reConstructBinaryTree(tin_order,pos_order)\n",
    "S.preorder(root)"
   ]
  },
  {
   "cell_type": "code",
   "execution_count": 23,
   "metadata": {},
   "outputs": [
    {
     "data": {
      "text/plain": [
       "3"
      ]
     },
     "execution_count": 23,
     "metadata": {},
     "output_type": "execute_result"
    }
   ],
   "source": [
    "pre_order = [1, 2, 4, 7, 3, 5, 6, 8]\n",
    "tin_order = [4, 7, 2, 1, 5, 3, 8, 6]  \n",
    "pos_order = [7, 4 ,2, 5, 8, 6 ,3, 1]\n",
    "#             i = tin.index(pos[j])\n",
    "\n",
    "tin_order.index(pos_order[len(pos_order)-1])"
   ]
  },
  {
   "cell_type": "markdown",
   "metadata": {},
   "source": [
    "#### 分析"
   ]
  },
  {
   "cell_type": "code",
   "execution_count": 20,
   "metadata": {},
   "outputs": [
    {
     "name": "stdout",
     "output_type": "stream",
     "text": [
      "3\n"
     ]
    },
    {
     "ename": "NameError",
     "evalue": "name 'TreeNode' is not defined",
     "output_type": "error",
     "traceback": [
      "\u001b[1;31m---------------------------------------------------------------------------\u001b[0m",
      "\u001b[1;31mNameError\u001b[0m                                 Traceback (most recent call last)",
      "\u001b[1;32m<ipython-input-20-afebdaffc689>\u001b[0m in \u001b[0;36m<module>\u001b[1;34m()\u001b[0m\n\u001b[0;32m      6\u001b[0m         \u001b[1;32mbreak\u001b[0m\u001b[1;33m\u001b[0m\u001b[0m\n\u001b[0;32m      7\u001b[0m \u001b[0mprint\u001b[0m\u001b[1;33m(\u001b[0m\u001b[0mi\u001b[0m\u001b[1;33m)\u001b[0m\u001b[1;33m\u001b[0m\u001b[0m\n\u001b[1;32m----> 8\u001b[1;33m \u001b[0mprint\u001b[0m\u001b[1;33m(\u001b[0m\u001b[0mTreeNode\u001b[0m\u001b[1;33m(\u001b[0m\u001b[0mpre_order\u001b[0m\u001b[1;33m[\u001b[0m\u001b[1;36m0\u001b[0m\u001b[1;33m]\u001b[0m\u001b[1;33m)\u001b[0m\u001b[1;33m)\u001b[0m\u001b[1;33m\u001b[0m\u001b[0m\n\u001b[0m",
      "\u001b[1;31mNameError\u001b[0m: name 'TreeNode' is not defined"
     ]
    }
   ],
   "source": [
    "pre_order = [1, 2, 4, 7, 3, 5, 6, 8]\n",
    "mid_order = [4, 7, 2, 1, 5, 3, 8, 6]\n",
    "root_data = pre_order[0]\n",
    "for i in range(0, len(mid_order)):\n",
    "    if mid_order[i] == root_data:\n",
    "        break\n",
    "print(i)\n",
    " "
   ]
  },
  {
   "cell_type": "markdown",
   "metadata": {},
   "source": [
    "<a id = \"23\"> </a>\n",
    "### [23.从上往下打印二叉树](#0)"
   ]
  },
  {
   "cell_type": "code",
   "execution_count": 1,
   "metadata": {},
   "outputs": [
    {
     "name": "stderr",
     "output_type": "stream",
     "text": [
      "ERROR:root:No traceback has been produced, nothing to debug.\n"
     ]
    },
    {
     "ename": "AttributeError",
     "evalue": "'list' object has no attribute 'val'",
     "output_type": "error",
     "traceback": [
      "\u001b[1;31m---------------------------------------------------------------------------\u001b[0m",
      "\u001b[1;31mAttributeError\u001b[0m                            Traceback (most recent call last)",
      "\u001b[1;32m<ipython-input-1-8634298eed33>\u001b[0m in \u001b[0;36m<module>\u001b[1;34m()\u001b[0m\n\u001b[0;32m     27\u001b[0m       \u001b[0mtree\u001b[0m \u001b[1;33m=\u001b[0m \u001b[1;33m[\u001b[0m\u001b[1;36m4\u001b[0m\u001b[1;33m,\u001b[0m \u001b[1;36m7\u001b[0m\u001b[1;33m,\u001b[0m \u001b[1;36m2\u001b[0m\u001b[1;33m,\u001b[0m \u001b[1;36m1\u001b[0m\u001b[1;33m,\u001b[0m \u001b[1;36m5\u001b[0m\u001b[1;33m,\u001b[0m \u001b[1;36m3\u001b[0m\u001b[1;33m,\u001b[0m \u001b[1;36m8\u001b[0m\u001b[1;33m,\u001b[0m \u001b[1;36m6\u001b[0m\u001b[1;33m]\u001b[0m\u001b[1;33m\u001b[0m\u001b[0m\n\u001b[0;32m     28\u001b[0m \u001b[0mS\u001b[0m \u001b[1;33m=\u001b[0m \u001b[0mSolution\u001b[0m\u001b[1;33m(\u001b[0m\u001b[1;33m)\u001b[0m\u001b[1;33m\u001b[0m\u001b[0m\n\u001b[1;32m---> 29\u001b[1;33m \u001b[0mS\u001b[0m\u001b[1;33m.\u001b[0m\u001b[0mPrintFromTopToBottom\u001b[0m\u001b[1;33m(\u001b[0m\u001b[0mtree\u001b[0m\u001b[1;33m)\u001b[0m\u001b[1;33m\u001b[0m\u001b[0m\n\u001b[0m",
      "\u001b[1;32m<ipython-input-1-8634298eed33>\u001b[0m in \u001b[0;36mPrintFromTopToBottom\u001b[1;34m(self, root)\u001b[0m\n\u001b[0;32m     18\u001b[0m             \u001b[0mnode\u001b[0m \u001b[1;33m=\u001b[0m \u001b[0mqueue\u001b[0m\u001b[1;33m.\u001b[0m\u001b[0mpop\u001b[0m\u001b[1;33m(\u001b[0m\u001b[1;36m0\u001b[0m\u001b[1;33m)\u001b[0m\u001b[1;33m\u001b[0m\u001b[0m\n\u001b[0;32m     19\u001b[0m             \u001b[1;31m#print node.elem,\u001b[0m\u001b[1;33m\u001b[0m\u001b[1;33m\u001b[0m\u001b[0m\n\u001b[1;32m---> 20\u001b[1;33m             \u001b[0mtree\u001b[0m\u001b[1;33m.\u001b[0m\u001b[0mappend\u001b[0m\u001b[1;33m(\u001b[0m\u001b[0mnode\u001b[0m\u001b[1;33m.\u001b[0m\u001b[0mval\u001b[0m\u001b[1;33m)\u001b[0m\u001b[1;33m\u001b[0m\u001b[0m\n\u001b[0m\u001b[0;32m     21\u001b[0m             \u001b[1;32mif\u001b[0m \u001b[0mnode\u001b[0m\u001b[1;33m.\u001b[0m\u001b[0mleft\u001b[0m \u001b[1;33m!=\u001b[0m\u001b[1;32mNone\u001b[0m\u001b[1;33m:\u001b[0m\u001b[1;33m\u001b[0m\u001b[0m\n\u001b[0;32m     22\u001b[0m                 \u001b[0mqueue\u001b[0m\u001b[1;33m.\u001b[0m\u001b[0mappend\u001b[0m\u001b[1;33m(\u001b[0m\u001b[0mnode\u001b[0m\u001b[1;33m.\u001b[0m\u001b[0mleft\u001b[0m\u001b[1;33m)\u001b[0m\u001b[1;33m\u001b[0m\u001b[0m\n",
      "\u001b[1;31mAttributeError\u001b[0m: 'list' object has no attribute 'val'"
     ]
    }
   ],
   "source": [
    "\n",
    "\n",
    "class TreeNode:\n",
    "    def __init__(self, x):\n",
    "        self.val = x\n",
    "        self.left = None\n",
    "        self.right = None\n",
    "class Solution:\n",
    "    # 返回从上到下每个节点值列表，例：[1,2,3]\n",
    "    def PrintFromTopToBottom(self, root):\n",
    "        # write code here\n",
    "        if root == None:\n",
    "            return []\n",
    "        queue = []\n",
    "        tree = []\n",
    "        queue.append(root)\n",
    "        while queue:\n",
    "            node = queue.pop(0)\n",
    "            #print node.elem,\n",
    "            tree.append(node.val)\n",
    "            if node.left !=None:\n",
    "                queue.append(node.left)\n",
    "            if node.right != None:\n",
    "                queue.append(node.right)\n",
    "        return tree\n",
    "if __name__ == '__main__':\n",
    "      tree = [4, 7, 2, 1, 5, 3, 8, 6]    \n",
    "S = Solution()\n",
    "S.PrintFromTopToBottom(tree)"
   ]
  },
  {
   "cell_type": "code",
   "execution_count": 40,
   "metadata": {
    "scrolled": true
   },
   "outputs": [
    {
     "name": "stdout",
     "output_type": "stream",
     "text": [
      "None\n"
     ]
    }
   ],
   "source": [
    " \n"
   ]
  },
  {
   "cell_type": "markdown",
   "metadata": {},
   "source": [
    "## 树的排序"
   ]
  },
  {
   "cell_type": "code",
   "execution_count": 46,
   "metadata": {},
   "outputs": [
    {
     "name": "stdout",
     "output_type": "stream",
     "text": [
      "0 1 2 3 4 5 6 7 8 9  \n",
      "0 1 3 7 8 4 9 2 5 6  \n",
      "7 3 8 1 9 4 0 5 2 6  \n",
      "7 8 3 9 4 1 5 6 2 0 None\n"
     ]
    }
   ],
   "source": [
    "class Node(object):\n",
    "    \"\"\"\"\"\"\n",
    "    def __init__(self, item):\n",
    "        self.elem = item\n",
    "        self.lchild = None\n",
    "        self.rchild = None\n",
    "\n",
    "\n",
    "class Tree(object):\n",
    "    def __init__(self):\n",
    "        self.root = None\n",
    "\n",
    "    def add(self, item):\n",
    "        node = Node(item)\n",
    "        if self.root is None:\n",
    "            self.root = node\n",
    "            return\n",
    "        queue = [self.root]\n",
    "        while queue:\n",
    "            cur_node = queue.pop(0)\n",
    "            if cur_node.lchild is None:\n",
    "                cur_node.lchild = node\n",
    "                return\n",
    "            else:\n",
    "                queue.append(cur_node.lchild)\n",
    "            if cur_node.rchild is None:\n",
    "                cur_node.rchild = node\n",
    "                return\n",
    "            else:\n",
    "                queue.append(cur_node.rchild)\n",
    "\n",
    "    def breadth_travel(self):\n",
    "        \"\"\"广度遍历\"\"\"\n",
    "        if self.root is None:\n",
    "            return\n",
    "        queue = [self.root]\n",
    "        while queue:\n",
    "            cur_node = queue.pop(0)\n",
    "            print(cur_node.elem, end=\" \")\n",
    "            if cur_node.lchild is not None:\n",
    "                queue.append(cur_node.lchild)\n",
    "            if cur_node.rchild is not None:\n",
    "                queue.append(cur_node.rchild)\n",
    "\n",
    "    def preorder(self, node):\n",
    "        if node is None:\n",
    "            return\n",
    "        print(node.elem, end=\" \")\n",
    "        self.preorder(node.lchild)\n",
    "        self.preorder(node.rchild)\n",
    "\n",
    "    def inorder(self, node):\n",
    "        if node is None:\n",
    "            return\n",
    "        self.inorder(node.lchild)\n",
    "        print(node.elem,end=\" \")\n",
    "        self.inorder(node.rchild)\n",
    "\n",
    "    def posorder(self, node):\n",
    "        if node is None:\n",
    "            return\n",
    "        self.posorder(node.lchild)\n",
    "        self.posorder(node.rchild)\n",
    "        print(node.elem, end =\" \")\n",
    "\n",
    "\n",
    "if __name__ == \"__main__\":\n",
    "    tree = Tree()\n",
    "    tree.add(0)\n",
    "    tree.add(1)\n",
    "    tree.add(2)\n",
    "    tree.add(3)\n",
    "    tree.add(4)\n",
    "    tree.add(5)\n",
    "    tree.add(6)\n",
    "    tree.add(7)\n",
    "    tree.add(8)\n",
    "    tree.add(9)\n",
    "    tree.breadth_travel()\n",
    "    print(\" \")\n",
    "    tree.preorder(tree.root)\n",
    "    print(\" \")\n",
    "    tree.inorder(tree.root)\n",
    "    print(\" \")\n",
    "    tree.posorder(tree.root)\n",
    " "
   ]
  },
  {
   "cell_type": "code",
   "execution_count": 43,
   "metadata": {},
   "outputs": [
    {
     "ename": "SyntaxError",
     "evalue": "invalid character in identifier (<ipython-input-43-2ae6c78c7442>, line 1)",
     "output_type": "error",
     "traceback": [
      "\u001b[1;36m  File \u001b[1;32m\"<ipython-input-43-2ae6c78c7442>\"\u001b[1;36m, line \u001b[1;32m1\u001b[0m\n\u001b[1;33m    print（tree）\u001b[0m\n\u001b[1;37m              ^\u001b[0m\n\u001b[1;31mSyntaxError\u001b[0m\u001b[1;31m:\u001b[0m invalid character in identifier\n"
     ]
    }
   ],
   "source": [
    "print（tree）\n"
   ]
  },
  {
   "cell_type": "markdown",
   "metadata": {},
   "source": [
    " # 用两个栈实现队列\n",
    "    "
   ]
  },
  {
   "cell_type": "code",
   "execution_count": 29,
   "metadata": {},
   "outputs": [
    {
     "ename": "SyntaxError",
     "evalue": "invalid syntax (<ipython-input-29-d14dff58215a>, line 23)",
     "output_type": "error",
     "traceback": [
      "\u001b[1;36m  File \u001b[1;32m\"<ipython-input-29-d14dff58215a>\"\u001b[1;36m, line \u001b[1;32m23\u001b[0m\n\u001b[1;33m    print(stack2[])\u001b[0m\n\u001b[1;37m                 ^\u001b[0m\n\u001b[1;31mSyntaxError\u001b[0m\u001b[1;31m:\u001b[0m invalid syntax\n"
     ]
    }
   ],
   "source": [
    "# -*- coding:utf-8 -*-\n",
    "class Solution:\n",
    "    stack1 = []\n",
    "    stack2 = []\n",
    "    def push(self, node):\n",
    "        self.stack1.append(node)\n",
    "        \n",
    "        # write code here\n",
    "    def pop(self):\n",
    "        if self.stack2 :\n",
    "            return self.stack2.pop()\n",
    "        elif self.stack1:\n",
    "            while self.stack1:\n",
    "                self.stack2.append(self.stack1.pop())\n",
    "            return self.stack2.pop()\n",
    "            \n",
    "        # return xx\n",
    "        \n",
    "s=Solution()\n",
    "print(s.push(1))\n",
    "print(s.push(2))\n",
    "print(s.push(3))\n",
    "print(s.pop())"
   ]
  },
  {
   "cell_type": "markdown",
   "metadata": {},
   "source": [
    " # 旋转数组的最小数字\n",
    " "
   ]
  },
  {
   "cell_type": "code",
   "execution_count": null,
   "metadata": {},
   "outputs": [],
   "source": [
    "# -*- coding:utf-8 -*-\n",
    "class Solution:\n",
    "    def minNumberInRotateArray(self, rotateArray):\n",
    "        # write code here\n",
    "        if len(rotateArray) == 0:\n",
    "            return 0\n",
    "        #else:\n",
    "            #return min(rotateArray)\n",
    "        \n",
    "            \n",
    "            \n",
    "        first = 0\n",
    "        last = len(rotateArray) - 1           \n",
    "\n",
    "        while last - first > 0:\n",
    "#         while rotateArray[first] >= rotateArray[last]:\n",
    "\n",
    "            if last - first == 1:\n",
    "                mid = last\n",
    "                break               \n",
    "\n",
    "            mid = (first+last)//2                \n",
    "\n",
    "            if rotateArray[first] <= rotateArray[mid] :\n",
    "                first = mid\n",
    "            elif rotateArray[mid] <= rotateArray[last]:\n",
    "                last = mid                    \n",
    "        return rotateArray[mid]\n",
    "\n",
    "#         index1 = 0\n",
    "#         index2 = len(rotateArray)-1\n",
    "#         indexMid = index1        \n",
    "#         while rotateArray[index1] >= rotateArray[index2]:\n",
    "#             if index2-index1 == 1:\n",
    "#                 indexMid = index2\n",
    "#                 break\n",
    "#             indexMid = (index1+index2)//2\n",
    "#             if rotateArray[indexMid] >= rotateArray[index1]:\n",
    "#                 index1 = indexMid\n",
    "#             elif rotateArray[indexMid] <= rotateArray[index2]:\n",
    "#                 index2 = indexMid \n",
    "#         return rotateArray[indexMid]\n",
    "        \n",
    "        \n",
    "arr = [6501,6828,6963,7036,7422,7674,8146,8468,8704,8717,9170,9359,9719,9895,9896,9913,9962,154,293,334,492,1323,1479,1539,1727,1870,1943,2383,2392,2996,3282,3812,3903,4465,4605,4665,4772,4828,5142,5437,5448,5668,5706,5725,6300,6335]                    \n",
    "s=Solution()      \n",
    "s.minNumberInRotateArray(arr)\n",
    "                "
   ]
  },
  {
   "cell_type": "code",
   "execution_count": null,
   "metadata": {},
   "outputs": [],
   "source": [
    "# -*- coding:utf-8 -*-\n",
    "class Solution:\n",
    "    def minNumberInRotateArray(self, rotateArray):\n",
    "        # write code here\n",
    "        if len(rotateArray) == 0:\n",
    "            return 0\n",
    "        '''\n",
    "        if len(rotateArray) == 1:\n",
    "            return rotateArray[0];\n",
    "        '''\n",
    "        index1 = 0\n",
    "        index2 = len(rotateArray)-1\n",
    "        indexMid = index1\n",
    "        while rotateArray[index1] >= rotateArray[index2]:\n",
    "            if index2-index1 == 1:\n",
    "                indexMid = index2\n",
    "                break\n",
    "            indexMid = (index1+index2)//2\n",
    "            if rotateArray[indexMid] >= rotateArray[index1]:\n",
    "                index1 = indexMid\n",
    "            elif rotateArray[indexMid] <= rotateArray[index2]:\n",
    "                index2 = indexMid \n",
    "        return rotateArray[indexMid]\n",
    "    \n",
    "        \n",
    "arr = [6501,6828,6963,7036,7422,7674,8146,8468,8704,8717,9170,9359,9719,9895,9896,9913,9962,154,293,334,492,1323,1479,1539,1727,1870,1943,2383,2392,2996,3282,3812,3903,4465,4605,4665,4772,4828,5142,5437,5448,5668,5706,5725,6300,6335]                    \n",
    "s=Solution()      \n",
    "s.minNumberInRotateArray(arr)"
   ]
  },
  {
   "cell_type": "markdown",
   "metadata": {},
   "source": [
    "# 斐波那契数列"
   ]
  },
  {
   "cell_type": "code",
   "execution_count": 15,
   "metadata": {},
   "outputs": [
    {
     "data": {
      "text/plain": [
       "102334155"
      ]
     },
     "execution_count": 15,
     "metadata": {},
     "output_type": "execute_result"
    }
   ],
   "source": [
    "class Solution:\n",
    "    def Fibonacci(self, n):\n",
    "        \n",
    "        # write code here\n",
    "        if n == 0:\n",
    "            return 0\n",
    "        a = 0\n",
    "        b = 1\n",
    "        while n > 0:\n",
    "            x = a+b\n",
    "            a = b\n",
    "            b = x\n",
    "            n -= 1\n",
    "        return a\n",
    "    \n",
    "s = Solution()\n",
    "s.Fibonacci(40)"
   ]
  },
  {
   "cell_type": "code",
   "execution_count": 14,
   "metadata": {},
   "outputs": [
    {
     "data": {
      "text/plain": [
       "9"
      ]
     },
     "execution_count": 14,
     "metadata": {},
     "output_type": "execute_result"
    }
   ],
   "source": [
    "n = 10\n",
    "n-=1\n",
    "n"
   ]
  },
  {
   "cell_type": "code",
   "execution_count": 18,
   "metadata": {},
   "outputs": [
    {
     "ename": "SyntaxError",
     "evalue": "invalid syntax (<ipython-input-18-ceadb7e16ec6>, line 2)",
     "output_type": "error",
     "traceback": [
      "\u001b[1;36m  File \u001b[1;32m\"<ipython-input-18-ceadb7e16ec6>\"\u001b[1;36m, line \u001b[1;32m2\u001b[0m\n\u001b[1;33m    print(i:b)\u001b[0m\n\u001b[1;37m           ^\u001b[0m\n\u001b[1;31mSyntaxError\u001b[0m\u001b[1;31m:\u001b[0m invalid syntax\n"
     ]
    }
   ],
   "source": [
    "for i in range(9):\n",
    "    print(i:b)"
   ]
  },
  {
   "cell_type": "markdown",
   "metadata": {},
   "source": [
    "# 跳台阶"
   ]
  },
  {
   "cell_type": "code",
   "execution_count": 39,
   "metadata": {},
   "outputs": [
    {
     "data": {
      "text/plain": [
       "2"
      ]
     },
     "execution_count": 39,
     "metadata": {},
     "output_type": "execute_result"
    }
   ],
   "source": [
    "# -*- coding:utf-8 -*-\n",
    "class Solution:\n",
    "    def jumpFloor(self, number):\n",
    "        # write code here\n",
    "                 \n",
    "        # write code here\n",
    "\n",
    "        a = 0\n",
    "        b = 1\n",
    "        while number > 0:\n",
    "#             x = a+b\n",
    "#             a = b\n",
    "#             b = x\n",
    "            a,b = b,a+b\n",
    "            number -= 1 \n",
    "        return b\n",
    "    \n",
    "s = Solution()\n",
    "s.jumpFloor(2)"
   ]
  },
  {
   "cell_type": "markdown",
   "metadata": {},
   "source": [
    "# 变态跳台阶（移位操作）"
   ]
  },
  {
   "cell_type": "code",
   "execution_count": 26,
   "metadata": {},
   "outputs": [
    {
     "data": {
      "text/plain": [
       "4"
      ]
     },
     "execution_count": 26,
     "metadata": {},
     "output_type": "execute_result"
    }
   ],
   "source": [
    "1<<2"
   ]
  },
  {
   "cell_type": "code",
   "execution_count": 37,
   "metadata": {},
   "outputs": [
    {
     "data": {
      "text/plain": [
       "1"
      ]
     },
     "execution_count": 37,
     "metadata": {},
     "output_type": "execute_result"
    }
   ],
   "source": [
    "# -*- coding:utf-8 -*-\n",
    "class Solution:\n",
    "    def jumpFloorII(self, number):\n",
    "        # write code here\n",
    " \n",
    "            return 1<<(number-1)\n",
    "        \n",
    "s = Solution()\n",
    "s.jumpFloorII(1)"
   ]
  },
  {
   "cell_type": "markdown",
   "metadata": {},
   "source": [
    "# 矩阵覆盖\n"
   ]
  },
  {
   "cell_type": "code",
   "execution_count": null,
   "metadata": {},
   "outputs": [],
   "source": [
    "# -*- coding:utf-8 -*-\n",
    "class Solution:\n",
    "    def rectCover(self, number):\n",
    "        # write code here\n",
    "        if number == 0:\n",
    "            return 0\n",
    "        a = 0\n",
    "        b = 1\n",
    "        while number > 0:\n",
    "#             x = a+b\n",
    "#             a = b\n",
    "#             b = x\n",
    "            a,b = b,a+b\n",
    "            number -= 1 \n",
    "        return b"
   ]
  },
  {
   "cell_type": "markdown",
   "metadata": {},
   "source": [
    "# 二进制数中1的个数\n",
    "输入一个整数，输出该数二进制表示中1的个数。其中负数用补码表示。"
   ]
  },
  {
   "cell_type": "code",
   "execution_count": 97,
   "metadata": {
    "scrolled": true
   },
   "outputs": [
    {
     "data": {
      "text/plain": [
       "8"
      ]
     },
     "execution_count": 97,
     "metadata": {},
     "output_type": "execute_result"
    }
   ],
   "source": [
    "# -*- coding:utf-8 -*-\n",
    "class Solution:\n",
    "    def NumberOf1(self, n):\n",
    "        # write code here\n",
    "        count = 0 \n",
    "\n",
    "        for i in range(32): # ????整数范围\n",
    "            if n&1 == 1:\n",
    "                count += 1\n",
    "            n = n>>1\n",
    "            \n",
    "        return count\n",
    "s = Solution()\n",
    "s.NumberOf1(-214748333648)   "
   ]
  },
  {
   "cell_type": "markdown",
   "metadata": {},
   "source": [
    "# 数值的整数次方\n"
   ]
  },
  {
   "cell_type": "code",
   "execution_count": null,
   "metadata": {},
   "outputs": [],
   "source": []
  },
  {
   "cell_type": "markdown",
   "metadata": {},
   "source": [
    "# 调整数组顺序使奇数位于偶数前面\n"
   ]
  },
  {
   "cell_type": "code",
   "execution_count": 112,
   "metadata": {},
   "outputs": [
    {
     "ename": "KeyboardInterrupt",
     "evalue": "",
     "output_type": "error",
     "traceback": [
      "\u001b[1;31m---------------------------------------------------------------------------\u001b[0m",
      "\u001b[1;31mKeyboardInterrupt\u001b[0m                         Traceback (most recent call last)",
      "\u001b[1;32m<ipython-input-112-75641a5798c2>\u001b[0m in \u001b[0;36m<module>\u001b[1;34m()\u001b[0m\n\u001b[0;32m     19\u001b[0m \u001b[0ms\u001b[0m \u001b[1;33m=\u001b[0m \u001b[0mSolution\u001b[0m\u001b[1;33m(\u001b[0m\u001b[1;33m)\u001b[0m\u001b[1;33m\u001b[0m\u001b[0m\n\u001b[0;32m     20\u001b[0m \u001b[0marr\u001b[0m \u001b[1;33m=\u001b[0m \u001b[1;33m[\u001b[0m\u001b[1;36m2\u001b[0m\u001b[1;33m,\u001b[0m\u001b[1;36m4\u001b[0m\u001b[1;33m,\u001b[0m\u001b[1;36m5\u001b[0m\u001b[1;33m,\u001b[0m\u001b[1;36m12\u001b[0m\u001b[1;33m,\u001b[0m\u001b[1;36m8\u001b[0m\u001b[1;33m,\u001b[0m\u001b[1;36m2\u001b[0m\u001b[1;33m,\u001b[0m\u001b[1;36m4\u001b[0m\u001b[1;33m,\u001b[0m\u001b[1;36m5\u001b[0m\u001b[1;33m,\u001b[0m\u001b[1;36m3\u001b[0m\u001b[1;33m,\u001b[0m\u001b[1;36m9\u001b[0m\u001b[1;33m]\u001b[0m\u001b[1;33m\u001b[0m\u001b[0m\n\u001b[1;32m---> 21\u001b[1;33m \u001b[0ms\u001b[0m\u001b[1;33m.\u001b[0m\u001b[0mreOrderArray\u001b[0m\u001b[1;33m(\u001b[0m\u001b[0marr\u001b[0m\u001b[1;33m)\u001b[0m\u001b[1;33m\u001b[0m\u001b[0m\n\u001b[0m",
      "\u001b[1;32m<ipython-input-112-75641a5798c2>\u001b[0m in \u001b[0;36mreOrderArray\u001b[1;34m(self, array)\u001b[0m\n\u001b[0;32m     12\u001b[0m                 \u001b[0mself\u001b[0m\u001b[1;33m.\u001b[0m\u001b[0mstack2\u001b[0m\u001b[1;33m.\u001b[0m\u001b[0mappend\u001b[0m\u001b[1;33m(\u001b[0m\u001b[0marray\u001b[0m\u001b[1;33m[\u001b[0m\u001b[0mi\u001b[0m\u001b[1;33m]\u001b[0m\u001b[1;33m)\u001b[0m\u001b[1;33m\u001b[0m\u001b[0m\n\u001b[0;32m     13\u001b[0m         \u001b[1;32mwhile\u001b[0m \u001b[0mself\u001b[0m\u001b[1;33m.\u001b[0m\u001b[0mstack1\u001b[0m\u001b[1;33m:\u001b[0m\u001b[1;33m\u001b[0m\u001b[0m\n\u001b[1;32m---> 14\u001b[1;33m             \u001b[0mself\u001b[0m\u001b[1;33m.\u001b[0m\u001b[0mreArray\u001b[0m\u001b[1;33m.\u001b[0m\u001b[0mappend\u001b[0m\u001b[1;33m(\u001b[0m\u001b[0mself\u001b[0m\u001b[1;33m.\u001b[0m\u001b[0mstack1\u001b[0m\u001b[1;33m.\u001b[0m\u001b[0mpop\u001b[0m\u001b[1;33m)\u001b[0m\u001b[1;33m\u001b[0m\u001b[0m\n\u001b[0m\u001b[0;32m     15\u001b[0m         \u001b[1;32mwhile\u001b[0m \u001b[0mself\u001b[0m\u001b[1;33m.\u001b[0m\u001b[0mstack2\u001b[0m\u001b[1;33m:\u001b[0m\u001b[1;33m\u001b[0m\u001b[0m\n\u001b[0;32m     16\u001b[0m             \u001b[0mself\u001b[0m\u001b[1;33m.\u001b[0m\u001b[0mreArray\u001b[0m\u001b[1;33m.\u001b[0m\u001b[0mappend\u001b[0m\u001b[1;33m(\u001b[0m\u001b[0mself\u001b[0m\u001b[1;33m.\u001b[0m\u001b[0mstack2\u001b[0m\u001b[1;33m.\u001b[0m\u001b[0mpop\u001b[0m\u001b[1;33m)\u001b[0m\u001b[1;33m\u001b[0m\u001b[0m\n",
      "\u001b[1;31mKeyboardInterrupt\u001b[0m: "
     ]
    }
   ],
   "source": [
    "class Solution:\n",
    "    stack1 = []\n",
    "    stack2 = []\n",
    "    reArray = []\n",
    "    def reOrderArray(self,array):\n",
    "\n",
    "\n",
    "        for i in range(len(array)):\n",
    "            if array[i]%2 == 1:\n",
    "                self.stack1.append(array[i])\n",
    "            elif array[i]%2 == 0:\n",
    "                self.stack2.append(array[i])\n",
    "        while self.stack1:\n",
    "            self.reArray.append(self.stack1.pop)\n",
    "        while self.stack2:\n",
    "            self.reArray.append(self.stack2.pop)\n",
    "        return reArray\n",
    "    \n",
    "s = Solution()\n",
    "arr = [2,4,5,12,8,2,4,5,3,9]\n",
    "s.reOrderArray(arr)"
   ]
  },
  {
   "cell_type": "code",
   "execution_count": 125,
   "metadata": {},
   "outputs": [
    {
     "ename": "KeyboardInterrupt",
     "evalue": "",
     "output_type": "error",
     "traceback": [
      "\u001b[1;31m---------------------------------------------------------------------------\u001b[0m",
      "\u001b[1;31mKeyboardInterrupt\u001b[0m                         Traceback (most recent call last)",
      "\u001b[1;32m<ipython-input-125-e19e4f5d65b7>\u001b[0m in \u001b[0;36m<module>\u001b[1;34m()\u001b[0m\n\u001b[0;32m      9\u001b[0m         \u001b[0mstack2\u001b[0m\u001b[1;33m.\u001b[0m\u001b[0mappend\u001b[0m\u001b[1;33m(\u001b[0m\u001b[0marr\u001b[0m\u001b[1;33m[\u001b[0m\u001b[0mi\u001b[0m\u001b[1;33m]\u001b[0m\u001b[1;33m)\u001b[0m\u001b[1;33m\u001b[0m\u001b[0m\n\u001b[0;32m     10\u001b[0m \u001b[1;32mwhile\u001b[0m \u001b[0mstack1\u001b[0m\u001b[1;33m:\u001b[0m\u001b[1;33m\u001b[0m\u001b[0m\n\u001b[1;32m---> 11\u001b[1;33m     \u001b[0mreArray\u001b[0m\u001b[1;33m.\u001b[0m\u001b[0mappend\u001b[0m\u001b[1;33m(\u001b[0m\u001b[0mstack1\u001b[0m\u001b[1;33m.\u001b[0m\u001b[0mpop\u001b[0m\u001b[1;33m)\u001b[0m\u001b[1;33m\u001b[0m\u001b[0m\n\u001b[0m\u001b[0;32m     12\u001b[0m \u001b[1;32mwhile\u001b[0m \u001b[0mstack2\u001b[0m\u001b[1;33m:\u001b[0m\u001b[1;33m\u001b[0m\u001b[0m\n\u001b[0;32m     13\u001b[0m     \u001b[0mreArray\u001b[0m\u001b[1;33m.\u001b[0m\u001b[0mappend\u001b[0m\u001b[1;33m(\u001b[0m\u001b[0mstack2\u001b[0m\u001b[1;33m.\u001b[0m\u001b[0mpop\u001b[0m\u001b[1;33m)\u001b[0m\u001b[1;33m\u001b[0m\u001b[0m\n",
      "\u001b[1;31mKeyboardInterrupt\u001b[0m: "
     ]
    }
   ],
   "source": [
    "stack1 = []\n",
    "stack2 = []\n",
    "arr = [2,4,5,12,8,2,4,5,3,9]\n",
    "reArray = []\n",
    "for i in range(len(arr)):\n",
    "    if arr[i]%2 == 1:\n",
    "        stack1.append(arr[i])\n",
    "    elif arr[i]%2 == 0:\n",
    "        stack2.append(arr[i])\n",
    "while stack1:\n",
    "    reArray.append(stack1.pop)\n",
    "while stack2:\n",
    "    reArray.append(stack2.pop)\n",
    "print(reArray)\n",
    " \n"
   ]
  },
  {
   "cell_type": "code",
   "execution_count": 123,
   "metadata": {},
   "outputs": [
    {
     "name": "stdout",
     "output_type": "stream",
     "text": [
      "[1, 2, 3]\n"
     ]
    }
   ],
   "source": [
    "stack1 = [1,2,3]\n",
    "print(stack1)"
   ]
  },
  {
   "cell_type": "markdown",
   "metadata": {},
   "source": [
    "# 调整数组顺序使奇数位于偶数前面"
   ]
  },
  {
   "cell_type": "code",
   "execution_count": 5,
   "metadata": {},
   "outputs": [],
   "source": [
    "import numpy as np\n",
    "a = np.arange(10)"
   ]
  },
  {
   "cell_type": "code",
   "execution_count": 8,
   "metadata": {},
   "outputs": [],
   "source": [
    "list = a"
   ]
  },
  {
   "cell_type": "code",
   "execution_count": 24,
   "metadata": {},
   "outputs": [
    {
     "ename": "TypeError",
     "evalue": "unsupported operand type(s) for +: 'filter' and 'filter'",
     "output_type": "error",
     "traceback": [
      "\u001b[1;31m---------------------------------------------------------------------------\u001b[0m",
      "\u001b[1;31mTypeError\u001b[0m                                 Traceback (most recent call last)",
      "\u001b[1;32m<ipython-input-24-b75e3430be81>\u001b[0m in \u001b[0;36m<module>\u001b[1;34m()\u001b[0m\n\u001b[0;32m      3\u001b[0m \u001b[0meven\u001b[0m \u001b[1;33m=\u001b[0m \u001b[0mfilter\u001b[0m\u001b[1;33m(\u001b[0m\u001b[1;32mlambda\u001b[0m \u001b[0mitem\u001b[0m\u001b[1;33m:\u001b[0m \u001b[1;32mnot\u001b[0m\u001b[1;33m(\u001b[0m\u001b[0mitem\u001b[0m\u001b[1;33m%\u001b[0m\u001b[1;36m2\u001b[0m\u001b[1;33m)\u001b[0m\u001b[1;33m,\u001b[0m\u001b[0mlist\u001b[0m\u001b[1;33m)\u001b[0m\u001b[1;33m\u001b[0m\u001b[0m\n\u001b[0;32m      4\u001b[0m \u001b[1;33m\u001b[0m\u001b[0m\n\u001b[1;32m----> 5\u001b[1;33m \u001b[0mreOrder\u001b[0m \u001b[1;33m=\u001b[0m \u001b[0modd\u001b[0m \u001b[1;33m+\u001b[0m \u001b[0meven\u001b[0m\u001b[1;33m\u001b[0m\u001b[0m\n\u001b[0m\u001b[0;32m      6\u001b[0m \u001b[0mreOrder\u001b[0m\u001b[1;33m\u001b[0m\u001b[0m\n",
      "\u001b[1;31mTypeError\u001b[0m: unsupported operand type(s) for +: 'filter' and 'filter'"
     ]
    }
   ],
   "source": [
    "# odd = [item for item in list if item % 2]\n",
    "odd = filter(lambda item: (itme%2),list)\n",
    "even = filter(lambda item: not(item%2),list)\n",
    "\n",
    "reOrder = odd + even\n",
    "reOrder\n"
   ]
  },
  {
   "cell_type": "code",
   "execution_count": 28,
   "metadata": {},
   "outputs": [
    {
     "name": "stdout",
     "output_type": "stream",
     "text": [
      "[0 1 2 3 4 5 6 7 8 9]\n",
      "<filter object at 0x0000013B4A244128>\n"
     ]
    }
   ],
   "source": [
    "array = a\n",
    "oddL = filter(lambda x: x%2, array)\n",
    "evenL = filter(lambda x:not (x%2), array)\n",
    "# result = oddL + evenL\n",
    "# return result\n",
    "print(array)\n",
    "print(oddL)"
   ]
  },
  {
   "cell_type": "code",
   "execution_count": 29,
   "metadata": {},
   "outputs": [
    {
     "name": "stdout",
     "output_type": "stream",
     "text": [
      "<filter object at 0x0000013B4A2447B8>\n"
     ]
    }
   ],
   "source": [
    "def is_odd(n):\n",
    "    return n % 2 == 1\n",
    " \n",
    "newlist = filter(is_odd, [1, 2, 3, 4, 5, 6, 7, 8, 9, 10])\n",
    "print(newlist)"
   ]
  },
  {
   "cell_type": "code",
   "execution_count": 32,
   "metadata": {},
   "outputs": [
    {
     "name": "stdout",
     "output_type": "stream",
     "text": [
      "[6, 4]\n"
     ]
    }
   ],
   "source": [
    "'''\n",
    "一个整型数组里除了两个数字之外，其他的数字都出现了两次。请写程序找出这两个只出现一次的数字。\n",
    "'''\n",
    "\n",
    "# -*- coding:utf-8 -*-\n",
    "class Solution:\n",
    "    # 返回[a,b] 其中ab是出现一次的两个数字\n",
    "    def FindNumsAppearOnce(self, array):\n",
    "        if array == None or len(array) <= 0:\n",
    "            return []\n",
    "        resultExclusiveOr = 0\n",
    "        for i in array:\n",
    "            resultExclusiveOr ^= i\n",
    "\n",
    "        indexOf1 = self.FindFirstBitIs1(resultExclusiveOr)\n",
    "        num1, num2 = 0\n",
    "        for j in range(len(array)):\n",
    "            if self.IsBit1(array[j], indexOf1):\n",
    "                num1 ^= array[j]\n",
    "            else:\n",
    "                num2 ^= array[j]\n",
    "        return [num1, num2]\n",
    "\n",
    "    def FindFirstBitIs1(self, num):\n",
    "        indexBit = 0\n",
    "        while num & 1 == 0 and indexBit <= 32:\n",
    "            indexBit += 1\n",
    "            num = num >> 1\n",
    "        return indexBit\n",
    "\n",
    "    def IsBit1(self, num, indexBit):\n",
    "        num = num >> indexBit\n",
    "        return num & 1\n",
    "\n",
    "class Solution2:\n",
    "    # 返回[a,b] 其中ab是出现一次的两个数字\n",
    "    def FindNumsAppearOnce(self, array):\n",
    "        if array == None or len(array) <= 0:\n",
    "            return []\n",
    "        resultExOr = self.ExOr(array)\n",
    "        i = 0\n",
    "        while resultExOr and i <= 32:\n",
    "            i += 1\n",
    "            resultExOr = resultExOr>>1\n",
    "        num1, num2 = [], []\n",
    "        for num in array:\n",
    "            if self.bitIs1(num, i):\n",
    "                num1.append(num)\n",
    "            else:\n",
    "                num2.append(num)\n",
    "        first = self.ExOr(num1)\n",
    "        second = self.ExOr(num2)\n",
    "        return [first, second]\n",
    "\n",
    "    def ExOr(self, aList):\n",
    "        ExOrNum = 0\n",
    "        for i in aList:\n",
    "            ExOrNum = ExOrNum ^ i\n",
    "        return ExOrNum\n",
    "    def bitIs1(self, n, i):\n",
    "        n = n >> (i-1)\n",
    "        return n & 1\n",
    "\n",
    "aList = [2, 4, 3, 6, 3, 2, 5, 5]\n",
    "s = Solution2()\n",
    "print(s.FindNumsAppearOnce(aList))\n"
   ]
  },
  {
   "cell_type": "code",
   "execution_count": 36,
   "metadata": {},
   "outputs": [
    {
     "ename": "TypeError",
     "evalue": "'numpy.ndarray' object is not callable",
     "output_type": "error",
     "traceback": [
      "\u001b[1;31m---------------------------------------------------------------------------\u001b[0m",
      "\u001b[1;31mTypeError\u001b[0m                                 Traceback (most recent call last)",
      "\u001b[1;32m<ipython-input-36-a489c5ce5f28>\u001b[0m in \u001b[0;36m<module>\u001b[1;34m()\u001b[0m\n\u001b[0;32m      2\u001b[0m \u001b[1;32mimport\u001b[0m \u001b[0mnumpy\u001b[0m \u001b[1;32mas\u001b[0m \u001b[0mnp\u001b[0m\u001b[1;33m\u001b[0m\u001b[0m\n\u001b[0;32m      3\u001b[0m \u001b[1;33m\u001b[0m\u001b[0m\n\u001b[1;32m----> 4\u001b[1;33m \u001b[0ma\u001b[0m \u001b[1;33m=\u001b[0m \u001b[0mlist\u001b[0m\u001b[1;33m(\u001b[0m\u001b[0mmap\u001b[0m\u001b[1;33m(\u001b[0m\u001b[1;32mlambda\u001b[0m \u001b[0mc\u001b[0m\u001b[1;33m:\u001b[0m\u001b[0mc\u001b[0m\u001b[1;33m[\u001b[0m\u001b[1;36m0\u001b[0m\u001b[1;33m]\u001b[0m\u001b[1;33m,\u001b[0m\u001b[0mCounter\u001b[0m\u001b[1;33m(\u001b[0m\u001b[1;33m[\u001b[0m\u001b[1;36m2\u001b[0m\u001b[1;33m,\u001b[0m \u001b[1;36m4\u001b[0m\u001b[1;33m,\u001b[0m \u001b[1;36m3\u001b[0m\u001b[1;33m,\u001b[0m \u001b[1;36m6\u001b[0m\u001b[1;33m,\u001b[0m \u001b[1;36m3\u001b[0m\u001b[1;33m,\u001b[0m \u001b[1;36m2\u001b[0m\u001b[1;33m,\u001b[0m \u001b[1;36m5\u001b[0m\u001b[1;33m,\u001b[0m \u001b[1;36m5\u001b[0m\u001b[1;33m]\u001b[0m\u001b[1;33m)\u001b[0m\u001b[1;33m.\u001b[0m\u001b[0mmost_common\u001b[0m\u001b[1;33m(\u001b[0m\u001b[1;33m)\u001b[0m\u001b[1;33m[\u001b[0m\u001b[1;33m-\u001b[0m\u001b[1;36m2\u001b[0m\u001b[1;33m:\u001b[0m\u001b[1;33m]\u001b[0m\u001b[1;33m)\u001b[0m\u001b[1;33m)\u001b[0m\u001b[1;33m\u001b[0m\u001b[0m\n\u001b[0m",
      "\u001b[1;31mTypeError\u001b[0m: 'numpy.ndarray' object is not callable"
     ]
    }
   ],
   "source": [
    "from collections import Counter\n",
    "array= [2, 4, 3, 6, 3, 2, 5, 5]\n",
    "a = list(map(lambda c:c[0],Counter(array).most_common()[-2:]))"
   ]
  },
  {
   "cell_type": "code",
   "execution_count": null,
   "metadata": {},
   "outputs": [],
   "source": []
  }
 ],
 "metadata": {
  "kernelspec": {
   "display_name": "Python 3",
   "language": "python",
   "name": "python3"
  },
  "language_info": {
   "codemirror_mode": {
    "name": "ipython",
    "version": 3
   },
   "file_extension": ".py",
   "mimetype": "text/x-python",
   "name": "python",
   "nbconvert_exporter": "python",
   "pygments_lexer": "ipython3",
   "version": "3.6.4"
  }
 },
 "nbformat": 4,
 "nbformat_minor": 2
}
