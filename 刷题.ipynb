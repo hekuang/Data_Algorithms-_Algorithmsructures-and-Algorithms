{
 "cells": [
  {
   "cell_type": "markdown",
   "metadata": {},
   "source": [
    "<a id = \"0\"></a>\n",
    "\n",
    "- [3.二维数组查找](#3)\n",
    "- [4.替换空格](#4)\n",
    "- [5.从尾到头打印链表](#5)\n",
    "- [6.重构二叉树](#6)\n",
    "- [23.从上往下打印二叉树](#23)\n"
   ]
  },
  {
   "cell_type": "markdown",
   "metadata": {},
   "source": [
    "<a id = \"3\"></a>\n",
    "### [3.二维数组查找](#0)"
   ]
  },
  {
   "cell_type": "code",
   "execution_count": null,
   "metadata": {},
   "outputs": [
    {
     "name": "stdout",
     "output_type": "stream",
     "text": [
      "> \u001b[1;32m<ipython-input-2-8acf00c0f09d>\u001b[0m(21)\u001b[0;36mPrintFromTopToBottom\u001b[1;34m()\u001b[0m\n",
      "\u001b[1;32m     19 \u001b[1;33m            \u001b[0mnode\u001b[0m \u001b[1;33m=\u001b[0m \u001b[0mqueue\u001b[0m\u001b[1;33m.\u001b[0m\u001b[0mpop\u001b[0m\u001b[1;33m(\u001b[0m\u001b[1;36m0\u001b[0m\u001b[1;33m)\u001b[0m\u001b[1;33m\u001b[0m\u001b[0m\n",
      "\u001b[0m\u001b[1;32m     20 \u001b[1;33m            \u001b[1;31m#print node.elem,\u001b[0m\u001b[1;33m\u001b[0m\u001b[1;33m\u001b[0m\u001b[0m\n",
      "\u001b[0m\u001b[1;32m---> 21 \u001b[1;33m            \u001b[0mtree\u001b[0m\u001b[1;33m.\u001b[0m\u001b[0mappend\u001b[0m\u001b[1;33m(\u001b[0m\u001b[0mnode\u001b[0m\u001b[1;33m.\u001b[0m\u001b[0mval\u001b[0m\u001b[1;33m)\u001b[0m\u001b[1;33m\u001b[0m\u001b[0m\n",
      "\u001b[0m\u001b[1;32m     22 \u001b[1;33m            \u001b[1;32mif\u001b[0m \u001b[0mnode\u001b[0m\u001b[1;33m.\u001b[0m\u001b[0mleft\u001b[0m \u001b[1;33m!=\u001b[0m\u001b[1;32mNone\u001b[0m\u001b[1;33m:\u001b[0m\u001b[1;33m\u001b[0m\u001b[0m\n",
      "\u001b[0m\u001b[1;32m     23 \u001b[1;33m                \u001b[0mqueue\u001b[0m\u001b[1;33m.\u001b[0m\u001b[0mappend\u001b[0m\u001b[1;33m(\u001b[0m\u001b[0mnode\u001b[0m\u001b[1;33m.\u001b[0m\u001b[0mleft\u001b[0m\u001b[1;33m)\u001b[0m\u001b[1;33m\u001b[0m\u001b[0m\n",
      "\u001b[0m\n"
     ]
    }
   ],
   "source": [
    "%debug\n",
    "def search(array, num):\n",
    "    # 参数合法性判断忽略\n",
    "    i = 0\n",
    "    j = len(array[0]) - 1\n",
    "    max_i = len(array) - 1\n",
    "    while i <= max_i and j >= 0:\n",
    "        if array[i][j] == num:\n",
    "            return True\n",
    "        elif array[i][j] > num:\n",
    "            j = j - 1\n",
    "        else:\n",
    "            i = i + 1\n",
    "    return False        \n",
    "    \n",
    "    \n",
    "if __name__ == '__main__':\n",
    "    a = [[1, 2, 8, 9],\n",
    "         [2, 4, 9, 12],\n",
    "         [4, 7, 10, 13],\n",
    "         [6, 8, 11, 15],\n",
    "         ]\n",
    "    print (search(a, 14))\n",
    "    print (search(a, 7))\n",
    "    "
   ]
  },
  {
   "cell_type": "markdown",
   "metadata": {},
   "source": [
    "<a id = \"4\"> </a>\n",
    "### [4.替换空格](#0)"
   ]
  },
  {
   "cell_type": "code",
   "execution_count": 18,
   "metadata": {},
   "outputs": [
    {
     "name": "stdout",
     "output_type": "stream",
     "text": [
      "we%20are%20happy\n",
      "we%20are%20happy\n"
     ]
    }
   ],
   "source": [
    "# -*- coding:utf-8 -*-\n",
    "class Solution:\n",
    "    # s 源字符串\n",
    "    def replaceSpace(self, s):\n",
    "        # write code here\n",
    "        if type(s) != str:\n",
    "            return\n",
    "        return s.replace(' ', '%20')\n",
    "    \n",
    "      # 创建新的字符串进行替换\n",
    "    def replaceSpace1(self, s):\n",
    "        tempstr = ''\n",
    "        if type(s) != str:\n",
    "            return\n",
    "        for c in s:\n",
    "            if c == ' ':\n",
    "                tempstr += '%20'\n",
    "            else:\n",
    "                tempstr += c\n",
    "        return tempstr\n",
    "    \n",
    " \n",
    "s = 'we are happy'\n",
    "test = Solution()\n",
    "print(test.replaceSpace(s))\n",
    "print(test.replaceSpace1(s))\n",
    "\n",
    " \n"
   ]
  },
  {
   "cell_type": "markdown",
   "metadata": {},
   "source": [
    "<a id = \"6\"></a>\n",
    "### [6.重建二叉树](#0)"
   ]
  },
  {
   "cell_type": "code",
   "execution_count": 16,
   "metadata": {},
   "outputs": [],
   "source": [
    "class Node:\n",
    "     def __init__(self, data, left, right):\n",
    "        self.data = data\n",
    "        self.left = left\n",
    "        self.right = right\n",
    "        \n",
    "def construct_tree(pre_order, mid_order):\n",
    "# \n",
    "    if len(pre_order) == 0 or len(mid_order) ==0 :\n",
    "        return None\n",
    "# 前序遍历的第一个结点一定是根结点\n",
    "    root_data = pre_order[0]\n",
    "    for i in range(0, len(mid_order)):\n",
    "        if mid_order[i] == root_data:\n",
    "            break\n",
    "# 递归构造左子树和右子树\n",
    "    left = construct_tree(pre_order[1 : 1 + i], mid_order[:i])\n",
    "    right = construct_tree(pre_order[1 + i:], mid_order[i+1:])\n",
    "    return Node(root_data, left, right)\n",
    "\n",
    "\n",
    "if __name__ == '__main__':\n",
    "    pre_order = [1, 2, 4, 7, 3, 5, 6, 8]\n",
    "    mid_order = [4, 7, 2, 1, 5, 3, 8, 6]\n",
    "    root = construct_tree(pre_order, mid_order)\n",
    "    root"
   ]
  },
  {
   "cell_type": "code",
   "execution_count": 4,
   "metadata": {
    "scrolled": true
   },
   "outputs": [
    {
     "name": "stdout",
     "output_type": "stream",
     "text": [
      "> \u001b[1;32m<ipython-input-2-8acf00c0f09d>\u001b[0m(21)\u001b[0;36mPrintFromTopToBottom\u001b[1;34m()\u001b[0m\n",
      "\u001b[1;32m     19 \u001b[1;33m            \u001b[0mnode\u001b[0m \u001b[1;33m=\u001b[0m \u001b[0mqueue\u001b[0m\u001b[1;33m.\u001b[0m\u001b[0mpop\u001b[0m\u001b[1;33m(\u001b[0m\u001b[1;36m0\u001b[0m\u001b[1;33m)\u001b[0m\u001b[1;33m\u001b[0m\u001b[0m\n",
      "\u001b[0m\u001b[1;32m     20 \u001b[1;33m            \u001b[1;31m#print node.elem,\u001b[0m\u001b[1;33m\u001b[0m\u001b[1;33m\u001b[0m\u001b[0m\n",
      "\u001b[0m\u001b[1;32m---> 21 \u001b[1;33m            \u001b[0mtree\u001b[0m\u001b[1;33m.\u001b[0m\u001b[0mappend\u001b[0m\u001b[1;33m(\u001b[0m\u001b[0mnode\u001b[0m\u001b[1;33m.\u001b[0m\u001b[0mval\u001b[0m\u001b[1;33m)\u001b[0m\u001b[1;33m\u001b[0m\u001b[0m\n",
      "\u001b[0m\u001b[1;32m     22 \u001b[1;33m            \u001b[1;32mif\u001b[0m \u001b[0mnode\u001b[0m\u001b[1;33m.\u001b[0m\u001b[0mleft\u001b[0m \u001b[1;33m!=\u001b[0m\u001b[1;32mNone\u001b[0m\u001b[1;33m:\u001b[0m\u001b[1;33m\u001b[0m\u001b[0m\n",
      "\u001b[0m\u001b[1;32m     23 \u001b[1;33m                \u001b[0mqueue\u001b[0m\u001b[1;33m.\u001b[0m\u001b[0mappend\u001b[0m\u001b[1;33m(\u001b[0m\u001b[0mnode\u001b[0m\u001b[1;33m.\u001b[0m\u001b[0mleft\u001b[0m\u001b[1;33m)\u001b[0m\u001b[1;33m\u001b[0m\u001b[0m\n",
      "\u001b[0m\n",
      "ipdb> i\n",
      "*** NameError: name 'i' is not defined\n",
      "ipdb> root\n",
      "[4, 7, 2, 1, 5, 3, 8, 6]\n",
      "ipdb> quit\n"
     ]
    },
    {
     "data": {
      "text/plain": [
       "<__main__.TreeNode at 0x25948e8c9e8>"
      ]
     },
     "execution_count": 4,
     "metadata": {},
     "output_type": "execute_result"
    }
   ],
   "source": [
    "# 成功解法\n",
    "%debug\n",
    "class TreeNode:\n",
    "    def __init__(self, x):\n",
    "        self.val = x\n",
    "        self.left = None\n",
    "        self.right = None\n",
    "        \n",
    "class Solution:\n",
    "    # 返回构造的TreeNode根节点\n",
    "    def reConstructBinaryTree(self, pre, tin):\n",
    "        # write code here\n",
    "        if len(pre) == 0 or len(tin) ==0 :\n",
    "            return None\n",
    "    # 前序遍历的第一个结点一定是根结点\n",
    "        else:\n",
    "            root = TreeNode(pre[0])\n",
    "            i = tin.index(pre[0])\n",
    "                 #for i in range(0, len(tin):\n",
    "                    #if tin[i] == root_data:\n",
    "                       # break\n",
    "        # 递归构造左子树和右子树\n",
    "            root.left = self.reConstructBinaryTree(pre[1 : 1 + i], tin[:i])\n",
    "            root.right = self.reConstructBinaryTree(pre[1 + i:], tin[i+1:])\n",
    "        return root\n",
    "    \n",
    "\n",
    "if __name__ == '__main__':\n",
    "    pre_order = [1, 2, 4, 7, 3, 5, 6, 8]\n",
    "    mid_order = [4, 7, 2, 1, 5, 3, 8, 6]    \n",
    "S = Solution()\n",
    "S.reConstructBinaryTree(pre_order,mid_order)"
   ]
  },
  {
   "cell_type": "markdown",
   "metadata": {},
   "source": [
    "#### 分析"
   ]
  },
  {
   "cell_type": "code",
   "execution_count": 20,
   "metadata": {},
   "outputs": [
    {
     "name": "stdout",
     "output_type": "stream",
     "text": [
      "3\n"
     ]
    },
    {
     "ename": "NameError",
     "evalue": "name 'TreeNode' is not defined",
     "output_type": "error",
     "traceback": [
      "\u001b[1;31m---------------------------------------------------------------------------\u001b[0m",
      "\u001b[1;31mNameError\u001b[0m                                 Traceback (most recent call last)",
      "\u001b[1;32m<ipython-input-20-afebdaffc689>\u001b[0m in \u001b[0;36m<module>\u001b[1;34m()\u001b[0m\n\u001b[0;32m      6\u001b[0m         \u001b[1;32mbreak\u001b[0m\u001b[1;33m\u001b[0m\u001b[0m\n\u001b[0;32m      7\u001b[0m \u001b[0mprint\u001b[0m\u001b[1;33m(\u001b[0m\u001b[0mi\u001b[0m\u001b[1;33m)\u001b[0m\u001b[1;33m\u001b[0m\u001b[0m\n\u001b[1;32m----> 8\u001b[1;33m \u001b[0mprint\u001b[0m\u001b[1;33m(\u001b[0m\u001b[0mTreeNode\u001b[0m\u001b[1;33m(\u001b[0m\u001b[0mpre_order\u001b[0m\u001b[1;33m[\u001b[0m\u001b[1;36m0\u001b[0m\u001b[1;33m]\u001b[0m\u001b[1;33m)\u001b[0m\u001b[1;33m)\u001b[0m\u001b[1;33m\u001b[0m\u001b[0m\n\u001b[0m",
      "\u001b[1;31mNameError\u001b[0m: name 'TreeNode' is not defined"
     ]
    }
   ],
   "source": [
    "pre_order = [1, 2, 4, 7, 3, 5, 6, 8]\n",
    "mid_order = [4, 7, 2, 1, 5, 3, 8, 6]\n",
    "root_data = pre_order[0]\n",
    "for i in range(0, len(mid_order)):\n",
    "    if mid_order[i] == root_data:\n",
    "        break\n",
    "print(i)\n",
    " "
   ]
  },
  {
   "cell_type": "markdown",
   "metadata": {},
   "source": [
    "<a id = \"23\"> </a>\n",
    "### [23.从上往下打印二叉树](#0)"
   ]
  },
  {
   "cell_type": "code",
   "execution_count": 1,
   "metadata": {},
   "outputs": [
    {
     "name": "stderr",
     "output_type": "stream",
     "text": [
      "ERROR:root:No traceback has been produced, nothing to debug.\n"
     ]
    },
    {
     "ename": "AttributeError",
     "evalue": "'list' object has no attribute 'val'",
     "output_type": "error",
     "traceback": [
      "\u001b[1;31m---------------------------------------------------------------------------\u001b[0m",
      "\u001b[1;31mAttributeError\u001b[0m                            Traceback (most recent call last)",
      "\u001b[1;32m<ipython-input-1-8634298eed33>\u001b[0m in \u001b[0;36m<module>\u001b[1;34m()\u001b[0m\n\u001b[0;32m     27\u001b[0m       \u001b[0mtree\u001b[0m \u001b[1;33m=\u001b[0m \u001b[1;33m[\u001b[0m\u001b[1;36m4\u001b[0m\u001b[1;33m,\u001b[0m \u001b[1;36m7\u001b[0m\u001b[1;33m,\u001b[0m \u001b[1;36m2\u001b[0m\u001b[1;33m,\u001b[0m \u001b[1;36m1\u001b[0m\u001b[1;33m,\u001b[0m \u001b[1;36m5\u001b[0m\u001b[1;33m,\u001b[0m \u001b[1;36m3\u001b[0m\u001b[1;33m,\u001b[0m \u001b[1;36m8\u001b[0m\u001b[1;33m,\u001b[0m \u001b[1;36m6\u001b[0m\u001b[1;33m]\u001b[0m\u001b[1;33m\u001b[0m\u001b[0m\n\u001b[0;32m     28\u001b[0m \u001b[0mS\u001b[0m \u001b[1;33m=\u001b[0m \u001b[0mSolution\u001b[0m\u001b[1;33m(\u001b[0m\u001b[1;33m)\u001b[0m\u001b[1;33m\u001b[0m\u001b[0m\n\u001b[1;32m---> 29\u001b[1;33m \u001b[0mS\u001b[0m\u001b[1;33m.\u001b[0m\u001b[0mPrintFromTopToBottom\u001b[0m\u001b[1;33m(\u001b[0m\u001b[0mtree\u001b[0m\u001b[1;33m)\u001b[0m\u001b[1;33m\u001b[0m\u001b[0m\n\u001b[0m",
      "\u001b[1;32m<ipython-input-1-8634298eed33>\u001b[0m in \u001b[0;36mPrintFromTopToBottom\u001b[1;34m(self, root)\u001b[0m\n\u001b[0;32m     18\u001b[0m             \u001b[0mnode\u001b[0m \u001b[1;33m=\u001b[0m \u001b[0mqueue\u001b[0m\u001b[1;33m.\u001b[0m\u001b[0mpop\u001b[0m\u001b[1;33m(\u001b[0m\u001b[1;36m0\u001b[0m\u001b[1;33m)\u001b[0m\u001b[1;33m\u001b[0m\u001b[0m\n\u001b[0;32m     19\u001b[0m             \u001b[1;31m#print node.elem,\u001b[0m\u001b[1;33m\u001b[0m\u001b[1;33m\u001b[0m\u001b[0m\n\u001b[1;32m---> 20\u001b[1;33m             \u001b[0mtree\u001b[0m\u001b[1;33m.\u001b[0m\u001b[0mappend\u001b[0m\u001b[1;33m(\u001b[0m\u001b[0mnode\u001b[0m\u001b[1;33m.\u001b[0m\u001b[0mval\u001b[0m\u001b[1;33m)\u001b[0m\u001b[1;33m\u001b[0m\u001b[0m\n\u001b[0m\u001b[0;32m     21\u001b[0m             \u001b[1;32mif\u001b[0m \u001b[0mnode\u001b[0m\u001b[1;33m.\u001b[0m\u001b[0mleft\u001b[0m \u001b[1;33m!=\u001b[0m\u001b[1;32mNone\u001b[0m\u001b[1;33m:\u001b[0m\u001b[1;33m\u001b[0m\u001b[0m\n\u001b[0;32m     22\u001b[0m                 \u001b[0mqueue\u001b[0m\u001b[1;33m.\u001b[0m\u001b[0mappend\u001b[0m\u001b[1;33m(\u001b[0m\u001b[0mnode\u001b[0m\u001b[1;33m.\u001b[0m\u001b[0mleft\u001b[0m\u001b[1;33m)\u001b[0m\u001b[1;33m\u001b[0m\u001b[0m\n",
      "\u001b[1;31mAttributeError\u001b[0m: 'list' object has no attribute 'val'"
     ]
    }
   ],
   "source": [
    "\n",
    "\n",
    "class TreeNode:\n",
    "    def __init__(self, x):\n",
    "        self.val = x\n",
    "        self.left = None\n",
    "        self.right = None\n",
    "class Solution:\n",
    "    # 返回从上到下每个节点值列表，例：[1,2,3]\n",
    "    def PrintFromTopToBottom(self, root):\n",
    "        # write code here\n",
    "        if root == None:\n",
    "            return []\n",
    "        queue = []\n",
    "        tree = []\n",
    "        queue.append(root)\n",
    "        while queue:\n",
    "            node = queue.pop(0)\n",
    "            #print node.elem,\n",
    "            tree.append(node.val)\n",
    "            if node.left !=None:\n",
    "                queue.append(node.left)\n",
    "            if node.right != None:\n",
    "                queue.append(node.right)\n",
    "        return tree\n",
    "if __name__ == '__main__':\n",
    "      tree = [4, 7, 2, 1, 5, 3, 8, 6]    \n",
    "S = Solution()\n",
    "S.PrintFromTopToBottom(tree)"
   ]
  },
  {
   "cell_type": "code",
   "execution_count": 40,
   "metadata": {
    "scrolled": true
   },
   "outputs": [
    {
     "name": "stdout",
     "output_type": "stream",
     "text": [
      "None\n"
     ]
    }
   ],
   "source": [
    " \n"
   ]
  },
  {
   "cell_type": "markdown",
   "metadata": {},
   "source": [
    "## 树的排序"
   ]
  },
  {
   "cell_type": "code",
   "execution_count": 46,
   "metadata": {},
   "outputs": [
    {
     "name": "stdout",
     "output_type": "stream",
     "text": [
      "0 1 2 3 4 5 6 7 8 9  \n",
      "0 1 3 7 8 4 9 2 5 6  \n",
      "7 3 8 1 9 4 0 5 2 6  \n",
      "7 8 3 9 4 1 5 6 2 0 None\n"
     ]
    }
   ],
   "source": [
    "class Node(object):\n",
    "    \"\"\"\"\"\"\n",
    "    def __init__(self, item):\n",
    "        self.elem = item\n",
    "        self.lchild = None\n",
    "        self.rchild = None\n",
    "\n",
    "\n",
    "class Tree(object):\n",
    "    def __init__(self):\n",
    "        self.root = None\n",
    "\n",
    "    def add(self, item):\n",
    "        node = Node(item)\n",
    "        if self.root is None:\n",
    "            self.root = node\n",
    "            return\n",
    "        queue = [self.root]\n",
    "        while queue:\n",
    "            cur_node = queue.pop(0)\n",
    "            if cur_node.lchild is None:\n",
    "                cur_node.lchild = node\n",
    "                return\n",
    "            else:\n",
    "                queue.append(cur_node.lchild)\n",
    "            if cur_node.rchild is None:\n",
    "                cur_node.rchild = node\n",
    "                return\n",
    "            else:\n",
    "                queue.append(cur_node.rchild)\n",
    "\n",
    "    def breadth_travel(self):\n",
    "        \"\"\"广度遍历\"\"\"\n",
    "        if self.root is None:\n",
    "            return\n",
    "        queue = [self.root]\n",
    "        while queue:\n",
    "            cur_node = queue.pop(0)\n",
    "            print(cur_node.elem, end=\" \")\n",
    "            if cur_node.lchild is not None:\n",
    "                queue.append(cur_node.lchild)\n",
    "            if cur_node.rchild is not None:\n",
    "                queue.append(cur_node.rchild)\n",
    "\n",
    "    def preorder(self, node):\n",
    "        if node is None:\n",
    "            return\n",
    "        print(node.elem, end=\" \")\n",
    "        self.preorder(node.lchild)\n",
    "        self.preorder(node.rchild)\n",
    "\n",
    "    def inorder(self, node):\n",
    "        if node is None:\n",
    "            return\n",
    "        self.inorder(node.lchild)\n",
    "        print(node.elem,end=\" \")\n",
    "        self.inorder(node.rchild)\n",
    "\n",
    "    def posorder(self, node):\n",
    "        if node is None:\n",
    "            return\n",
    "        self.posorder(node.lchild)\n",
    "        self.posorder(node.rchild)\n",
    "        print(node.elem, end =\" \")\n",
    "\n",
    "\n",
    "if __name__ == \"__main__\":\n",
    "    tree = Tree()\n",
    "    tree.add(0)\n",
    "    tree.add(1)\n",
    "    tree.add(2)\n",
    "    tree.add(3)\n",
    "    tree.add(4)\n",
    "    tree.add(5)\n",
    "    tree.add(6)\n",
    "    tree.add(7)\n",
    "    tree.add(8)\n",
    "    tree.add(9)\n",
    "    tree.breadth_travel()\n",
    "    print(\" \")\n",
    "    tree.preorder(tree.root)\n",
    "    print(\" \")\n",
    "    tree.inorder(tree.root)\n",
    "    print(\" \")\n",
    "    tree.posorder(tree.root)\n",
    " "
   ]
  },
  {
   "cell_type": "code",
   "execution_count": 43,
   "metadata": {},
   "outputs": [
    {
     "ename": "SyntaxError",
     "evalue": "invalid character in identifier (<ipython-input-43-2ae6c78c7442>, line 1)",
     "output_type": "error",
     "traceback": [
      "\u001b[1;36m  File \u001b[1;32m\"<ipython-input-43-2ae6c78c7442>\"\u001b[1;36m, line \u001b[1;32m1\u001b[0m\n\u001b[1;33m    print（tree）\u001b[0m\n\u001b[1;37m              ^\u001b[0m\n\u001b[1;31mSyntaxError\u001b[0m\u001b[1;31m:\u001b[0m invalid character in identifier\n"
     ]
    }
   ],
   "source": [
    "print（tree）\n"
   ]
  },
  {
   "cell_type": "code",
   "execution_count": null,
   "metadata": {},
   "outputs": [],
   "source": []
  }
 ],
 "metadata": {
  "kernelspec": {
   "display_name": "Python 3",
   "language": "python",
   "name": "python3"
  },
  "language_info": {
   "codemirror_mode": {
    "name": "ipython",
    "version": 3
   },
   "file_extension": ".py",
   "mimetype": "text/x-python",
   "name": "python",
   "nbconvert_exporter": "python",
   "pygments_lexer": "ipython3",
   "version": "3.6.4"
  }
 },
 "nbformat": 4,
 "nbformat_minor": 2
}
