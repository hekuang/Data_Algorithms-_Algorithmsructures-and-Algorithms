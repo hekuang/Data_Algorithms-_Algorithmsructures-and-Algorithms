{
 "cells": [
  {
   "cell_type": "markdown",
   "metadata": {},
   "source": [
    "### 1.总体规范\n",
    "- 每条指令占一行，指令后不跟任何符号；\n",
    "- 书写上的缩进表示程序中的分支结构；\n",
    "- 同一模块中的语句有相同的缩进量；\n",
    "- 算法开始时，描述它的输入和输出；\n",
    "- 算法每一行给上编号；\n",
    "\n",
    "### 2.变量的声明\n",
    "算法中出现的变量，数组可以是以下类型：整数，实数，字符，位串或指针。定义变量的语句不用写出来，在注释中给出\n",
    "\n",
    "### 3.表达式\n",
    "算术运算符：+，−，∗，/，^ \n",
    "关系运算符：=，≠，<，>，≤ 和 ≥ \n",
    "逻辑运算符：and，or，not\n",
    "\n",
    "### 4.赋值语句\n",
    "赋值语句： a←b \n",
    "这里a可以是变量，数组项，b可以是表达式，表示将b的值赋给a \n",
    "变量交换：a↔b \n",
    "\n",
    "\n",
    "### 5.分支结构while循环、repeat-until循环和for循环\n",
    "\n",
    "```python\n",
    " 1. x ← 0\n",
    "  2. y ← 0\n",
    "  3. z ← 0\n",
    "  4. while x < N\n",
    "       1. do x ← x + 1\n",
    "       2.    y ← x + y\n",
    "       3.    for t ← 0 to 10 \n",
    "               1. do z ← ( z + x * y ) / 100\n",
    "               2.    repeat \n",
    "                       1. y ← y + 1\n",
    "                       2. z ← z - y\n",
    "               3.    until z < 0\n",
    "       4.    z ← x * y\n",
    "  5. y ← y / 2\n",
    "```\n",
    "\n",
    "### 6.循环结构\n",
    "while语句形式：\n",
    "```python\n",
    "while time<10 do \n",
    "    xxxx\n",
    "end\n",
    "# for语句形式：\n",
    "\n",
    "# var是变量，init ,limit,incr是算术表达式，init初始化的值，limit终界值，incr单步变化量\n",
    "for var init to limit by incr do\n",
    "    xxxx\n",
    "end    \n",
    "```\n",
    "\n",
    "### 7.程序的结束\n",
    "exit语句：结束while循环或者for循环 \n",
    "return语句：算法执行的终点\n",
    "\n",
    "### 8.函数的编写\n",
    "函数的伪代码格式例子：search(A,name)，参数类型可以不用给出，但必须在注释中说明"
   ]
  },
  {
   "cell_type": "code",
   "execution_count": null,
   "metadata": {},
   "outputs": [],
   "source": []
  }
 ],
 "metadata": {
  "kernelspec": {
   "display_name": "Python 3",
   "language": "python",
   "name": "python3"
  },
  "language_info": {
   "codemirror_mode": {
    "name": "ipython",
    "version": 3
   },
   "file_extension": ".py",
   "mimetype": "text/x-python",
   "name": "python",
   "nbconvert_exporter": "python",
   "pygments_lexer": "ipython3",
   "version": "3.6.4"
  }
 },
 "nbformat": 4,
 "nbformat_minor": 2
}
